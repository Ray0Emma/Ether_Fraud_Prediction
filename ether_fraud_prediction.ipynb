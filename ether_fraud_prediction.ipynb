{
 "cells": [
  {
   "cell_type": "markdown",
   "metadata": {
    "id": "gk2I9DtpikMC"
   },
   "source": [
    "# DataMining Project\n",
    "## Blockchain Fraud Prediction using Machine Learning\n",
    "### AIT ELAHMADI Farah"
   ]
  },
  {
   "cell_type": "markdown",
   "metadata": {
    "id": "ENf-KkmNH9xb"
   },
   "source": [
    "## Introduction\n",
    "The goal of this project is to identify instances of blockchain fraud through the application of machine learning. To do so, a dataset with various features such as transaction values, time intervals between transactions, etc., is utilized along with a binary label (FLAG) indicating whether a fraud has occurred (1) or not (0). The project will follow a supervised learning approach, where several classification models will be evaluated and one or more will be chosen based on their balance of recall score and false positive predictions."
   ]
  },
  {
   "cell_type": "markdown",
   "metadata": {
    "id": "BI3ymIpey7fC"
   },
   "source": [
    "## Importing Libraries\n",
    "The following cell contains all the necessary library imports for the project."
   ]
  },
  {
   "cell_type": "code",
   "execution_count": 1,
   "metadata": {
    "id": "ODbLJK_ZCWRV"
   },
   "outputs": [],
   "source": [
    "import pandas as pd\n",
    "import numpy as np\n",
    "from sklearn.feature_selection import SelectKBest, chi2, f_classif\n",
    "from sklearn.model_selection import train_test_split\n",
    "from sklearn.linear_model import LogisticRegression\n",
    "from sklearn.tree import DecisionTreeClassifier\n",
    "from sklearn.ensemble import RandomForestClassifier, GradientBoostingClassifier\n",
    "from sklearn import metrics\n",
    "import seaborn as sn\n",
    "import matplotlib.pyplot as plt"
   ]
  },
  {
   "cell_type": "markdown",
   "metadata": {
    "id": "HpVdCI3Y8RaX"
   },
   "source": [
    "## Exploring our Dataset\n",
    "Creating a DataFrame from the data in .csv format, which is sourced from Kaggle :(https://www.kaggle.com/vagifa/ethereum-frauddetection-dataset)."
   ]
  },
  {
   "cell_type": "code",
   "execution_count": 2,
   "metadata": {
    "id": "sb-5J5I9-Oun"
   },
   "outputs": [],
   "source": [
    "df = pd.read_csv ('transaction_dataset.csv')"
   ]
  },
  {
   "cell_type": "markdown",
   "metadata": {
    "id": "-dC-_WbQ9oPy"
   },
   "source": [
    "Examining the data by checking its size, the first 5 rows, and some basic statistics like average, median, etc."
   ]
  },
  {
   "cell_type": "code",
   "execution_count": 3,
   "metadata": {
    "colab": {
     "base_uri": "https://localhost:8080/"
    },
    "id": "1pwpGLbKJl8O",
    "outputId": "8d180063-8eff-427f-df27-7d421ea17670"
   },
   "outputs": [
    {
     "data": {
      "text/plain": [
       "(9841, 51)"
      ]
     },
     "execution_count": 3,
     "metadata": {},
     "output_type": "execute_result"
    }
   ],
   "source": [
    "df.shape #number of rows and columns"
   ]
  },
  {
   "cell_type": "code",
   "execution_count": 4,
   "metadata": {
    "colab": {
     "base_uri": "https://localhost:8080/",
     "height": 326
    },
    "id": "I-gUW8N8-1y2",
    "outputId": "0c87be80-bab3-45c9-8c70-09314f399b67"
   },
   "outputs": [
    {
     "data": {
      "text/html": [
       "<div>\n",
       "<style scoped>\n",
       "    .dataframe tbody tr th:only-of-type {\n",
       "        vertical-align: middle;\n",
       "    }\n",
       "\n",
       "    .dataframe tbody tr th {\n",
       "        vertical-align: top;\n",
       "    }\n",
       "\n",
       "    .dataframe thead th {\n",
       "        text-align: right;\n",
       "    }\n",
       "</style>\n",
       "<table border=\"1\" class=\"dataframe\">\n",
       "  <thead>\n",
       "    <tr style=\"text-align: right;\">\n",
       "      <th></th>\n",
       "      <th>Unnamed: 0</th>\n",
       "      <th>Index</th>\n",
       "      <th>Address</th>\n",
       "      <th>FLAG</th>\n",
       "      <th>Avg min between sent tnx</th>\n",
       "      <th>Avg min between received tnx</th>\n",
       "      <th>Time Diff between first and last (Mins)</th>\n",
       "      <th>Sent tnx</th>\n",
       "      <th>Received Tnx</th>\n",
       "      <th>Number of Created Contracts</th>\n",
       "      <th>...</th>\n",
       "      <th>ERC20 min val sent</th>\n",
       "      <th>ERC20 max val sent</th>\n",
       "      <th>ERC20 avg val sent</th>\n",
       "      <th>ERC20 min val sent contract</th>\n",
       "      <th>ERC20 max val sent contract</th>\n",
       "      <th>ERC20 avg val sent contract</th>\n",
       "      <th>ERC20 uniq sent token name</th>\n",
       "      <th>ERC20 uniq rec token name</th>\n",
       "      <th>ERC20 most sent token type</th>\n",
       "      <th>ERC20_most_rec_token_type</th>\n",
       "    </tr>\n",
       "  </thead>\n",
       "  <tbody>\n",
       "    <tr>\n",
       "      <th>0</th>\n",
       "      <td>0</td>\n",
       "      <td>1</td>\n",
       "      <td>0x00009277775ac7d0d59eaad8fee3d10ac6c805e8</td>\n",
       "      <td>0</td>\n",
       "      <td>844.26</td>\n",
       "      <td>1093.71</td>\n",
       "      <td>704785.63</td>\n",
       "      <td>721</td>\n",
       "      <td>89</td>\n",
       "      <td>0</td>\n",
       "      <td>...</td>\n",
       "      <td>0.000000</td>\n",
       "      <td>1.683100e+07</td>\n",
       "      <td>271779.920000</td>\n",
       "      <td>0.0</td>\n",
       "      <td>0.0</td>\n",
       "      <td>0.0</td>\n",
       "      <td>39.0</td>\n",
       "      <td>57.0</td>\n",
       "      <td>Cofoundit</td>\n",
       "      <td>Numeraire</td>\n",
       "    </tr>\n",
       "    <tr>\n",
       "      <th>1</th>\n",
       "      <td>1</td>\n",
       "      <td>2</td>\n",
       "      <td>0x0002b44ddb1476db43c868bd494422ee4c136fed</td>\n",
       "      <td>0</td>\n",
       "      <td>12709.07</td>\n",
       "      <td>2958.44</td>\n",
       "      <td>1218216.73</td>\n",
       "      <td>94</td>\n",
       "      <td>8</td>\n",
       "      <td>0</td>\n",
       "      <td>...</td>\n",
       "      <td>2.260809</td>\n",
       "      <td>2.260809e+00</td>\n",
       "      <td>2.260809</td>\n",
       "      <td>0.0</td>\n",
       "      <td>0.0</td>\n",
       "      <td>0.0</td>\n",
       "      <td>1.0</td>\n",
       "      <td>7.0</td>\n",
       "      <td>Livepeer Token</td>\n",
       "      <td>Livepeer Token</td>\n",
       "    </tr>\n",
       "    <tr>\n",
       "      <th>2</th>\n",
       "      <td>2</td>\n",
       "      <td>3</td>\n",
       "      <td>0x0002bda54cb772d040f779e88eb453cac0daa244</td>\n",
       "      <td>0</td>\n",
       "      <td>246194.54</td>\n",
       "      <td>2434.02</td>\n",
       "      <td>516729.30</td>\n",
       "      <td>2</td>\n",
       "      <td>10</td>\n",
       "      <td>0</td>\n",
       "      <td>...</td>\n",
       "      <td>0.000000</td>\n",
       "      <td>0.000000e+00</td>\n",
       "      <td>0.000000</td>\n",
       "      <td>0.0</td>\n",
       "      <td>0.0</td>\n",
       "      <td>0.0</td>\n",
       "      <td>0.0</td>\n",
       "      <td>8.0</td>\n",
       "      <td>None</td>\n",
       "      <td>XENON</td>\n",
       "    </tr>\n",
       "    <tr>\n",
       "      <th>3</th>\n",
       "      <td>3</td>\n",
       "      <td>4</td>\n",
       "      <td>0x00038e6ba2fd5c09aedb96697c8d7b8fa6632e5e</td>\n",
       "      <td>0</td>\n",
       "      <td>10219.60</td>\n",
       "      <td>15785.09</td>\n",
       "      <td>397555.90</td>\n",
       "      <td>25</td>\n",
       "      <td>9</td>\n",
       "      <td>0</td>\n",
       "      <td>...</td>\n",
       "      <td>100.000000</td>\n",
       "      <td>9.029231e+03</td>\n",
       "      <td>3804.076893</td>\n",
       "      <td>0.0</td>\n",
       "      <td>0.0</td>\n",
       "      <td>0.0</td>\n",
       "      <td>1.0</td>\n",
       "      <td>11.0</td>\n",
       "      <td>Raiden</td>\n",
       "      <td>XENON</td>\n",
       "    </tr>\n",
       "    <tr>\n",
       "      <th>4</th>\n",
       "      <td>4</td>\n",
       "      <td>5</td>\n",
       "      <td>0x00062d1dd1afb6fb02540ddad9cdebfe568e0d89</td>\n",
       "      <td>0</td>\n",
       "      <td>36.61</td>\n",
       "      <td>10707.77</td>\n",
       "      <td>382472.42</td>\n",
       "      <td>4598</td>\n",
       "      <td>20</td>\n",
       "      <td>1</td>\n",
       "      <td>...</td>\n",
       "      <td>0.000000</td>\n",
       "      <td>4.500000e+04</td>\n",
       "      <td>13726.659220</td>\n",
       "      <td>0.0</td>\n",
       "      <td>0.0</td>\n",
       "      <td>0.0</td>\n",
       "      <td>6.0</td>\n",
       "      <td>27.0</td>\n",
       "      <td>StatusNetwork</td>\n",
       "      <td>EOS</td>\n",
       "    </tr>\n",
       "  </tbody>\n",
       "</table>\n",
       "<p>5 rows × 51 columns</p>\n",
       "</div>"
      ],
      "text/plain": [
       "   Unnamed: 0  Index                                     Address  FLAG  \\\n",
       "0           0      1  0x00009277775ac7d0d59eaad8fee3d10ac6c805e8     0   \n",
       "1           1      2  0x0002b44ddb1476db43c868bd494422ee4c136fed     0   \n",
       "2           2      3  0x0002bda54cb772d040f779e88eb453cac0daa244     0   \n",
       "3           3      4  0x00038e6ba2fd5c09aedb96697c8d7b8fa6632e5e     0   \n",
       "4           4      5  0x00062d1dd1afb6fb02540ddad9cdebfe568e0d89     0   \n",
       "\n",
       "   Avg min between sent tnx  Avg min between received tnx  \\\n",
       "0                    844.26                       1093.71   \n",
       "1                  12709.07                       2958.44   \n",
       "2                 246194.54                       2434.02   \n",
       "3                  10219.60                      15785.09   \n",
       "4                     36.61                      10707.77   \n",
       "\n",
       "   Time Diff between first and last (Mins)  Sent tnx  Received Tnx  \\\n",
       "0                                704785.63       721            89   \n",
       "1                               1218216.73        94             8   \n",
       "2                                516729.30         2            10   \n",
       "3                                397555.90        25             9   \n",
       "4                                382472.42      4598            20   \n",
       "\n",
       "   Number of Created Contracts  ...   ERC20 min val sent   ERC20 max val sent  \\\n",
       "0                            0  ...             0.000000         1.683100e+07   \n",
       "1                            0  ...             2.260809         2.260809e+00   \n",
       "2                            0  ...             0.000000         0.000000e+00   \n",
       "3                            0  ...           100.000000         9.029231e+03   \n",
       "4                            1  ...             0.000000         4.500000e+04   \n",
       "\n",
       "    ERC20 avg val sent   ERC20 min val sent contract  \\\n",
       "0        271779.920000                           0.0   \n",
       "1             2.260809                           0.0   \n",
       "2             0.000000                           0.0   \n",
       "3          3804.076893                           0.0   \n",
       "4         13726.659220                           0.0   \n",
       "\n",
       "    ERC20 max val sent contract   ERC20 avg val sent contract  \\\n",
       "0                           0.0                           0.0   \n",
       "1                           0.0                           0.0   \n",
       "2                           0.0                           0.0   \n",
       "3                           0.0                           0.0   \n",
       "4                           0.0                           0.0   \n",
       "\n",
       "    ERC20 uniq sent token name   ERC20 uniq rec token name  \\\n",
       "0                         39.0                        57.0   \n",
       "1                          1.0                         7.0   \n",
       "2                          0.0                         8.0   \n",
       "3                          1.0                        11.0   \n",
       "4                          6.0                        27.0   \n",
       "\n",
       "    ERC20 most sent token type   ERC20_most_rec_token_type  \n",
       "0                    Cofoundit                   Numeraire  \n",
       "1               Livepeer Token              Livepeer Token  \n",
       "2                         None                       XENON  \n",
       "3                       Raiden                       XENON  \n",
       "4                StatusNetwork                         EOS  \n",
       "\n",
       "[5 rows x 51 columns]"
      ]
     },
     "execution_count": 4,
     "metadata": {},
     "output_type": "execute_result"
    }
   ],
   "source": [
    "df.head() #first 5 rows"
   ]
  },
  {
   "cell_type": "code",
   "execution_count": 5,
   "metadata": {
    "colab": {
     "base_uri": "https://localhost:8080/",
     "height": 402
    },
    "id": "OsiZ8B5okib5",
    "outputId": "d5d30054-2d1f-41b9-e446-04104bbf1e81"
   },
   "outputs": [
    {
     "data": {
      "text/html": [
       "<div>\n",
       "<style scoped>\n",
       "    .dataframe tbody tr th:only-of-type {\n",
       "        vertical-align: middle;\n",
       "    }\n",
       "\n",
       "    .dataframe tbody tr th {\n",
       "        vertical-align: top;\n",
       "    }\n",
       "\n",
       "    .dataframe thead th {\n",
       "        text-align: right;\n",
       "    }\n",
       "</style>\n",
       "<table border=\"1\" class=\"dataframe\">\n",
       "  <thead>\n",
       "    <tr style=\"text-align: right;\">\n",
       "      <th></th>\n",
       "      <th>Unnamed: 0</th>\n",
       "      <th>Index</th>\n",
       "      <th>FLAG</th>\n",
       "      <th>Avg min between sent tnx</th>\n",
       "      <th>Avg min between received tnx</th>\n",
       "      <th>Time Diff between first and last (Mins)</th>\n",
       "      <th>Sent tnx</th>\n",
       "      <th>Received Tnx</th>\n",
       "      <th>Number of Created Contracts</th>\n",
       "      <th>Unique Received From Addresses</th>\n",
       "      <th>...</th>\n",
       "      <th>ERC20 max val rec</th>\n",
       "      <th>ERC20 avg val rec</th>\n",
       "      <th>ERC20 min val sent</th>\n",
       "      <th>ERC20 max val sent</th>\n",
       "      <th>ERC20 avg val sent</th>\n",
       "      <th>ERC20 min val sent contract</th>\n",
       "      <th>ERC20 max val sent contract</th>\n",
       "      <th>ERC20 avg val sent contract</th>\n",
       "      <th>ERC20 uniq sent token name</th>\n",
       "      <th>ERC20 uniq rec token name</th>\n",
       "    </tr>\n",
       "  </thead>\n",
       "  <tbody>\n",
       "    <tr>\n",
       "      <th>count</th>\n",
       "      <td>9841.000000</td>\n",
       "      <td>9841.000000</td>\n",
       "      <td>9841.000000</td>\n",
       "      <td>9841.000000</td>\n",
       "      <td>9841.000000</td>\n",
       "      <td>9.841000e+03</td>\n",
       "      <td>9841.000000</td>\n",
       "      <td>9841.000000</td>\n",
       "      <td>9841.000000</td>\n",
       "      <td>9841.000000</td>\n",
       "      <td>...</td>\n",
       "      <td>9.012000e+03</td>\n",
       "      <td>9.012000e+03</td>\n",
       "      <td>9.012000e+03</td>\n",
       "      <td>9.012000e+03</td>\n",
       "      <td>9.012000e+03</td>\n",
       "      <td>9012.0</td>\n",
       "      <td>9012.0</td>\n",
       "      <td>9012.0</td>\n",
       "      <td>9012.000000</td>\n",
       "      <td>9012.000000</td>\n",
       "    </tr>\n",
       "    <tr>\n",
       "      <th>mean</th>\n",
       "      <td>4920.000000</td>\n",
       "      <td>1815.049893</td>\n",
       "      <td>0.221421</td>\n",
       "      <td>5086.878721</td>\n",
       "      <td>8004.851184</td>\n",
       "      <td>2.183333e+05</td>\n",
       "      <td>115.931714</td>\n",
       "      <td>163.700945</td>\n",
       "      <td>3.729702</td>\n",
       "      <td>30.360939</td>\n",
       "      <td>...</td>\n",
       "      <td>1.252524e+08</td>\n",
       "      <td>4.346203e+06</td>\n",
       "      <td>1.174126e+04</td>\n",
       "      <td>1.303594e+07</td>\n",
       "      <td>6.318389e+06</td>\n",
       "      <td>0.0</td>\n",
       "      <td>0.0</td>\n",
       "      <td>0.0</td>\n",
       "      <td>1.384931</td>\n",
       "      <td>4.826676</td>\n",
       "    </tr>\n",
       "    <tr>\n",
       "      <th>std</th>\n",
       "      <td>2840.996333</td>\n",
       "      <td>1222.621830</td>\n",
       "      <td>0.415224</td>\n",
       "      <td>21486.549974</td>\n",
       "      <td>23081.714801</td>\n",
       "      <td>3.229379e+05</td>\n",
       "      <td>757.226361</td>\n",
       "      <td>940.836550</td>\n",
       "      <td>141.445583</td>\n",
       "      <td>298.621112</td>\n",
       "      <td>...</td>\n",
       "      <td>1.053741e+10</td>\n",
       "      <td>2.141192e+08</td>\n",
       "      <td>1.053567e+06</td>\n",
       "      <td>1.179905e+09</td>\n",
       "      <td>5.914764e+08</td>\n",
       "      <td>0.0</td>\n",
       "      <td>0.0</td>\n",
       "      <td>0.0</td>\n",
       "      <td>6.735121</td>\n",
       "      <td>16.678607</td>\n",
       "    </tr>\n",
       "    <tr>\n",
       "      <th>min</th>\n",
       "      <td>0.000000</td>\n",
       "      <td>1.000000</td>\n",
       "      <td>0.000000</td>\n",
       "      <td>0.000000</td>\n",
       "      <td>0.000000</td>\n",
       "      <td>0.000000e+00</td>\n",
       "      <td>0.000000</td>\n",
       "      <td>0.000000</td>\n",
       "      <td>0.000000</td>\n",
       "      <td>0.000000</td>\n",
       "      <td>...</td>\n",
       "      <td>0.000000e+00</td>\n",
       "      <td>0.000000e+00</td>\n",
       "      <td>0.000000e+00</td>\n",
       "      <td>0.000000e+00</td>\n",
       "      <td>0.000000e+00</td>\n",
       "      <td>0.0</td>\n",
       "      <td>0.0</td>\n",
       "      <td>0.0</td>\n",
       "      <td>0.000000</td>\n",
       "      <td>0.000000</td>\n",
       "    </tr>\n",
       "    <tr>\n",
       "      <th>25%</th>\n",
       "      <td>2460.000000</td>\n",
       "      <td>821.000000</td>\n",
       "      <td>0.000000</td>\n",
       "      <td>0.000000</td>\n",
       "      <td>0.000000</td>\n",
       "      <td>3.169300e+02</td>\n",
       "      <td>1.000000</td>\n",
       "      <td>1.000000</td>\n",
       "      <td>0.000000</td>\n",
       "      <td>1.000000</td>\n",
       "      <td>...</td>\n",
       "      <td>0.000000e+00</td>\n",
       "      <td>0.000000e+00</td>\n",
       "      <td>0.000000e+00</td>\n",
       "      <td>0.000000e+00</td>\n",
       "      <td>0.000000e+00</td>\n",
       "      <td>0.0</td>\n",
       "      <td>0.0</td>\n",
       "      <td>0.0</td>\n",
       "      <td>0.000000</td>\n",
       "      <td>0.000000</td>\n",
       "    </tr>\n",
       "    <tr>\n",
       "      <th>50%</th>\n",
       "      <td>4920.000000</td>\n",
       "      <td>1641.000000</td>\n",
       "      <td>0.000000</td>\n",
       "      <td>17.340000</td>\n",
       "      <td>509.770000</td>\n",
       "      <td>4.663703e+04</td>\n",
       "      <td>3.000000</td>\n",
       "      <td>4.000000</td>\n",
       "      <td>0.000000</td>\n",
       "      <td>2.000000</td>\n",
       "      <td>...</td>\n",
       "      <td>0.000000e+00</td>\n",
       "      <td>0.000000e+00</td>\n",
       "      <td>0.000000e+00</td>\n",
       "      <td>0.000000e+00</td>\n",
       "      <td>0.000000e+00</td>\n",
       "      <td>0.0</td>\n",
       "      <td>0.0</td>\n",
       "      <td>0.0</td>\n",
       "      <td>0.000000</td>\n",
       "      <td>1.000000</td>\n",
       "    </tr>\n",
       "    <tr>\n",
       "      <th>75%</th>\n",
       "      <td>7380.000000</td>\n",
       "      <td>2601.000000</td>\n",
       "      <td>0.000000</td>\n",
       "      <td>565.470000</td>\n",
       "      <td>5480.390000</td>\n",
       "      <td>3.040710e+05</td>\n",
       "      <td>11.000000</td>\n",
       "      <td>27.000000</td>\n",
       "      <td>0.000000</td>\n",
       "      <td>5.000000</td>\n",
       "      <td>...</td>\n",
       "      <td>9.900000e+01</td>\n",
       "      <td>2.946467e+01</td>\n",
       "      <td>0.000000e+00</td>\n",
       "      <td>0.000000e+00</td>\n",
       "      <td>0.000000e+00</td>\n",
       "      <td>0.0</td>\n",
       "      <td>0.0</td>\n",
       "      <td>0.0</td>\n",
       "      <td>0.000000</td>\n",
       "      <td>2.000000</td>\n",
       "    </tr>\n",
       "    <tr>\n",
       "      <th>max</th>\n",
       "      <td>9840.000000</td>\n",
       "      <td>4729.000000</td>\n",
       "      <td>1.000000</td>\n",
       "      <td>430287.670000</td>\n",
       "      <td>482175.490000</td>\n",
       "      <td>1.954861e+06</td>\n",
       "      <td>10000.000000</td>\n",
       "      <td>10000.000000</td>\n",
       "      <td>9995.000000</td>\n",
       "      <td>9999.000000</td>\n",
       "      <td>...</td>\n",
       "      <td>1.000000e+12</td>\n",
       "      <td>1.724181e+10</td>\n",
       "      <td>1.000000e+08</td>\n",
       "      <td>1.120000e+11</td>\n",
       "      <td>5.614756e+10</td>\n",
       "      <td>0.0</td>\n",
       "      <td>0.0</td>\n",
       "      <td>0.0</td>\n",
       "      <td>213.000000</td>\n",
       "      <td>737.000000</td>\n",
       "    </tr>\n",
       "  </tbody>\n",
       "</table>\n",
       "<p>8 rows × 48 columns</p>\n",
       "</div>"
      ],
      "text/plain": [
       "        Unnamed: 0        Index         FLAG  Avg min between sent tnx  \\\n",
       "count  9841.000000  9841.000000  9841.000000               9841.000000   \n",
       "mean   4920.000000  1815.049893     0.221421               5086.878721   \n",
       "std    2840.996333  1222.621830     0.415224              21486.549974   \n",
       "min       0.000000     1.000000     0.000000                  0.000000   \n",
       "25%    2460.000000   821.000000     0.000000                  0.000000   \n",
       "50%    4920.000000  1641.000000     0.000000                 17.340000   \n",
       "75%    7380.000000  2601.000000     0.000000                565.470000   \n",
       "max    9840.000000  4729.000000     1.000000             430287.670000   \n",
       "\n",
       "       Avg min between received tnx  Time Diff between first and last (Mins)  \\\n",
       "count                   9841.000000                             9.841000e+03   \n",
       "mean                    8004.851184                             2.183333e+05   \n",
       "std                    23081.714801                             3.229379e+05   \n",
       "min                        0.000000                             0.000000e+00   \n",
       "25%                        0.000000                             3.169300e+02   \n",
       "50%                      509.770000                             4.663703e+04   \n",
       "75%                     5480.390000                             3.040710e+05   \n",
       "max                   482175.490000                             1.954861e+06   \n",
       "\n",
       "           Sent tnx  Received Tnx  Number of Created Contracts  \\\n",
       "count   9841.000000   9841.000000                  9841.000000   \n",
       "mean     115.931714    163.700945                     3.729702   \n",
       "std      757.226361    940.836550                   141.445583   \n",
       "min        0.000000      0.000000                     0.000000   \n",
       "25%        1.000000      1.000000                     0.000000   \n",
       "50%        3.000000      4.000000                     0.000000   \n",
       "75%       11.000000     27.000000                     0.000000   \n",
       "max    10000.000000  10000.000000                  9995.000000   \n",
       "\n",
       "       Unique Received From Addresses  ...   ERC20 max val rec  \\\n",
       "count                     9841.000000  ...        9.012000e+03   \n",
       "mean                        30.360939  ...        1.252524e+08   \n",
       "std                        298.621112  ...        1.053741e+10   \n",
       "min                          0.000000  ...        0.000000e+00   \n",
       "25%                          1.000000  ...        0.000000e+00   \n",
       "50%                          2.000000  ...        0.000000e+00   \n",
       "75%                          5.000000  ...        9.900000e+01   \n",
       "max                       9999.000000  ...        1.000000e+12   \n",
       "\n",
       "        ERC20 avg val rec   ERC20 min val sent   ERC20 max val sent  \\\n",
       "count        9.012000e+03         9.012000e+03         9.012000e+03   \n",
       "mean         4.346203e+06         1.174126e+04         1.303594e+07   \n",
       "std          2.141192e+08         1.053567e+06         1.179905e+09   \n",
       "min          0.000000e+00         0.000000e+00         0.000000e+00   \n",
       "25%          0.000000e+00         0.000000e+00         0.000000e+00   \n",
       "50%          0.000000e+00         0.000000e+00         0.000000e+00   \n",
       "75%          2.946467e+01         0.000000e+00         0.000000e+00   \n",
       "max          1.724181e+10         1.000000e+08         1.120000e+11   \n",
       "\n",
       "        ERC20 avg val sent   ERC20 min val sent contract  \\\n",
       "count         9.012000e+03                        9012.0   \n",
       "mean          6.318389e+06                           0.0   \n",
       "std           5.914764e+08                           0.0   \n",
       "min           0.000000e+00                           0.0   \n",
       "25%           0.000000e+00                           0.0   \n",
       "50%           0.000000e+00                           0.0   \n",
       "75%           0.000000e+00                           0.0   \n",
       "max           5.614756e+10                           0.0   \n",
       "\n",
       "        ERC20 max val sent contract   ERC20 avg val sent contract  \\\n",
       "count                        9012.0                        9012.0   \n",
       "mean                            0.0                           0.0   \n",
       "std                             0.0                           0.0   \n",
       "min                             0.0                           0.0   \n",
       "25%                             0.0                           0.0   \n",
       "50%                             0.0                           0.0   \n",
       "75%                             0.0                           0.0   \n",
       "max                             0.0                           0.0   \n",
       "\n",
       "        ERC20 uniq sent token name   ERC20 uniq rec token name  \n",
       "count                  9012.000000                 9012.000000  \n",
       "mean                      1.384931                    4.826676  \n",
       "std                       6.735121                   16.678607  \n",
       "min                       0.000000                    0.000000  \n",
       "25%                       0.000000                    0.000000  \n",
       "50%                       0.000000                    1.000000  \n",
       "75%                       0.000000                    2.000000  \n",
       "max                     213.000000                  737.000000  \n",
       "\n",
       "[8 rows x 48 columns]"
      ]
     },
     "execution_count": 5,
     "metadata": {},
     "output_type": "execute_result"
    }
   ],
   "source": [
    "df.describe() #view some measures of central tendency (mean etc.)"
   ]
  },
  {
   "cell_type": "markdown",
   "metadata": {
    "id": "Vx8xnb4Mj21W"
   },
   "source": [
    "In this dataset, we see that the columns 'ERC20 uniq rec contract addr', 'ERC20 avg time between sent tnx', 'ERC20 avg time between rec tnx', 'ERC20 avg time between rec 2 tnx', 'ERC20 avg time between contract tnx', 'ERC20 min val sent contract', 'ERC20 max val sent contract', 'ERC20 avg val sent contract', seem to have no values apart from 0, so we can remove them:"
   ]
  },
  {
   "cell_type": "code",
   "execution_count": 6,
   "metadata": {
    "id": "Ypt44reJloqg"
   },
   "outputs": [],
   "source": [
    "df = df.drop(columns =[' ERC20 avg time between sent tnx', ' ERC20 avg time between rec tnx', ' ERC20 avg time between rec 2 tnx', ' ERC20 avg time between contract tnx', ' ERC20 min val sent contract', ' ERC20 max val sent contract', ' ERC20 avg val sent contract']) #removing columns which do add value"
   ]
  },
  {
   "cell_type": "markdown",
   "metadata": {
    "id": "6bb-tzDp9x_a"
   },
   "source": [
    "Understanding the schema of the dataset."
   ]
  },
  {
   "cell_type": "code",
   "execution_count": 7,
   "metadata": {
    "colab": {
     "base_uri": "https://localhost:8080/"
    },
    "id": "Ql1vMwXy-77X",
    "outputId": "46988e45-ad94-4a74-81dc-474bbf0ef72a"
   },
   "outputs": [
    {
     "name": "stdout",
     "output_type": "stream",
     "text": [
      "<class 'pandas.core.frame.DataFrame'>\n",
      "RangeIndex: 9841 entries, 0 to 9840\n",
      "Data columns (total 44 columns):\n",
      " #   Column                                                Non-Null Count  Dtype  \n",
      "---  ------                                                --------------  -----  \n",
      " 0   Unnamed: 0                                            9841 non-null   int64  \n",
      " 1   Index                                                 9841 non-null   int64  \n",
      " 2   Address                                               9841 non-null   object \n",
      " 3   FLAG                                                  9841 non-null   int64  \n",
      " 4   Avg min between sent tnx                              9841 non-null   float64\n",
      " 5   Avg min between received tnx                          9841 non-null   float64\n",
      " 6   Time Diff between first and last (Mins)               9841 non-null   float64\n",
      " 7   Sent tnx                                              9841 non-null   int64  \n",
      " 8   Received Tnx                                          9841 non-null   int64  \n",
      " 9   Number of Created Contracts                           9841 non-null   int64  \n",
      " 10  Unique Received From Addresses                        9841 non-null   int64  \n",
      " 11  Unique Sent To Addresses                              9841 non-null   int64  \n",
      " 12  min value received                                    9841 non-null   float64\n",
      " 13  max value received                                    9841 non-null   float64\n",
      " 14  avg val received                                      9841 non-null   float64\n",
      " 15  min val sent                                          9841 non-null   float64\n",
      " 16  max val sent                                          9841 non-null   float64\n",
      " 17  avg val sent                                          9841 non-null   float64\n",
      " 18  min value sent to contract                            9841 non-null   float64\n",
      " 19  max val sent to contract                              9841 non-null   float64\n",
      " 20  avg value sent to contract                            9841 non-null   float64\n",
      " 21  total transactions (including tnx to create contract  9841 non-null   int64  \n",
      " 22  total Ether sent                                      9841 non-null   float64\n",
      " 23  total ether received                                  9841 non-null   float64\n",
      " 24  total ether sent contracts                            9841 non-null   float64\n",
      " 25  total ether balance                                   9841 non-null   float64\n",
      " 26   Total ERC20 tnxs                                     9012 non-null   float64\n",
      " 27   ERC20 total Ether received                           9012 non-null   float64\n",
      " 28   ERC20 total ether sent                               9012 non-null   float64\n",
      " 29   ERC20 total Ether sent contract                      9012 non-null   float64\n",
      " 30   ERC20 uniq sent addr                                 9012 non-null   float64\n",
      " 31   ERC20 uniq rec addr                                  9012 non-null   float64\n",
      " 32   ERC20 uniq sent addr.1                               9012 non-null   float64\n",
      " 33   ERC20 uniq rec contract addr                         9012 non-null   float64\n",
      " 34   ERC20 min val rec                                    9012 non-null   float64\n",
      " 35   ERC20 max val rec                                    9012 non-null   float64\n",
      " 36   ERC20 avg val rec                                    9012 non-null   float64\n",
      " 37   ERC20 min val sent                                   9012 non-null   float64\n",
      " 38   ERC20 max val sent                                   9012 non-null   float64\n",
      " 39   ERC20 avg val sent                                   9012 non-null   float64\n",
      " 40   ERC20 uniq sent token name                           9012 non-null   float64\n",
      " 41   ERC20 uniq rec token name                            9012 non-null   float64\n",
      " 42   ERC20 most sent token type                           9000 non-null   object \n",
      " 43   ERC20_most_rec_token_type                            8990 non-null   object \n",
      "dtypes: float64(32), int64(9), object(3)\n",
      "memory usage: 3.3+ MB\n"
     ]
    }
   ],
   "source": [
    "df.info() #understanding dataset schema"
   ]
  },
  {
   "cell_type": "markdown",
   "metadata": {
    "id": "jEAnm4d7-HTw"
   },
   "source": [
    "Three columns: Address, ERC20 most sent token type and ERC20_most_rec_token_type, are of type 'object', which cannot be used in the modeling functions used ahead. we should remove them:"
   ]
  },
  {
   "cell_type": "code",
   "execution_count": 8,
   "metadata": {
    "id": "QiLgTNWKJaNn"
   },
   "outputs": [],
   "source": [
    "df = df.select_dtypes(exclude=['object'])"
   ]
  },
  {
   "cell_type": "markdown",
   "metadata": {
    "id": "1M-RK5fPEY5A"
   },
   "source": [
    "Additionally, the columns: 'Unnamed: 0' and 'Index', provide an index which is not of value to the modeling. Removing them:"
   ]
  },
  {
   "cell_type": "code",
   "execution_count": 9,
   "metadata": {
    "id": "W6rKXSF7_PKG"
   },
   "outputs": [],
   "source": [
    "df = df.drop(columns =['Unnamed: 0', 'Index'])"
   ]
  },
  {
   "cell_type": "markdown",
   "metadata": {
    "id": "nsxZJWb5FRSw"
   },
   "source": [
    "As stated earlier, the Fraud instances are indicated by the column 'FLAG' which has binary values. Understanding the balance of the label is important."
   ]
  },
  {
   "cell_type": "code",
   "execution_count": 10,
   "metadata": {
    "colab": {
     "base_uri": "https://localhost:8080/"
    },
    "id": "zOuwaGVb-9Ry",
    "outputId": "9207437c-377b-4fef-abc8-142e863c449d"
   },
   "outputs": [
    {
     "data": {
      "text/plain": [
       "0    7662\n",
       "1    2179\n",
       "Name: FLAG, dtype: int64"
      ]
     },
     "execution_count": 10,
     "metadata": {},
     "output_type": "execute_result"
    }
   ],
   "source": [
    "df['FLAG'].value_counts() #checking the label balance"
   ]
  },
  {
   "cell_type": "markdown",
   "metadata": {
    "id": "j-xDJ9gWJmbS"
   },
   "source": [
    "This means that in the given dataset, the proportion of data labeled as \"fraud\" (with the flag set to 1) is 22.14%. We has decided to not make any changes to the imbalance in the data labels since the proportion of fraud is not too low."
   ]
  },
  {
   "cell_type": "markdown",
   "metadata": {
    "id": "Zn8D0b06FwSG"
   },
   "source": [
    "Droppping rows with NAN values."
   ]
  },
  {
   "cell_type": "code",
   "execution_count": 11,
   "metadata": {
    "id": "23Ae1Hat8WZu"
   },
   "outputs": [],
   "source": [
    "df = df.dropna()"
   ]
  },
  {
   "cell_type": "markdown",
   "metadata": {
    "id": "0Zrb5OwDmPYC"
   },
   "source": [
    "Plotting the correlation between features of the dataset. This allows to better understand if any features are very strongly correlated with each other."
   ]
  },
  {
   "cell_type": "code",
   "execution_count": 12,
   "metadata": {
    "colab": {
     "base_uri": "https://localhost:8080/",
     "height": 946
    },
    "id": "Qfx5IRvajXaP",
    "outputId": "86bdc1d2-4cd8-4f9c-86c1-3fe8a79e846d"
   },
   "outputs": [
    {
     "data": {
      "image/png": "[encoded data removed]",
      "text/plain": [
       "<Figure size 1440x864 with 2 Axes>"
      ]
     },
     "metadata": {
      "needs_background": "light"
     },
     "output_type": "display_data"
    }
   ],
   "source": [
    "corr = df.corr()\n",
    "plt.figure(figsize=(20,12))\n",
    "sn.heatmap(np.abs(corr), cmap='coolwarm')\n",
    "plt.show()"
   ]
  },
  {
   "cell_type": "markdown",
   "metadata": {
    "id": "AGFpuS2qo6MX"
   },
   "source": [
    "Looking at the areas in the correlation matrix where 2 features are highly correlated (depicted by peach/orange color), we do not see any surprises. For example average value received is highly correlated with total ether received, which is expected.\n",
    "\n"
   ]
  },
  {
   "cell_type": "markdown",
   "metadata": {
    "id": "2Zj4kaWyHtmu"
   },
   "source": [
    "Building the Feature set as well as the Labels. Using conventions of 'X' and 'y'"
   ]
  },
  {
   "cell_type": "code",
   "execution_count": 13,
   "metadata": {
    "id": "JRyelrs8Qtmc"
   },
   "outputs": [],
   "source": [
    "X = df.drop('FLAG',axis = 1)\n",
    "y = df.FLAG"
   ]
  },
  {
   "cell_type": "markdown",
   "metadata": {
    "id": "DCs_7kM_IPXX"
   },
   "source": [
    "Splitting the data into a training set which will be used to train the model(s) as well as a test set, which will be unseen by the model and therefore can be used to test is prediction capabilities. Using a 70-30 split."
   ]
  },
  {
   "cell_type": "code",
   "execution_count": 14,
   "metadata": {
    "id": "I2AEUewrqYTm"
   },
   "outputs": [
    {
     "name": "stdout",
     "output_type": "stream",
     "text": [
      "(6308, 38) (6308,)\n",
      "(2704, 38) (2704,)\n"
     ]
    }
   ],
   "source": [
    "X_train, X_test, y_train, y_test = train_test_split(X, y, test_size=0.3, random_state=4) #random_state allows for the RNG to be deterministic for reproduction and testing\n",
    "print(X_train.shape, y_train.shape)\n",
    "print(X_test.shape, y_test.shape)"
   ]
  },
  {
   "cell_type": "markdown",
   "metadata": {
    "id": "u171obr8gD2M"
   },
   "source": [
    "## Feature Selection\n",
    "Using 2 statistical techniques to reduce feature set to include those which have a higher importance in determining the target variable : Chi Square as well as ANOVA F-value. Additionally using the SelectKBeat function to pick the top features after applying the techniques mentioned above. "
   ]
  },
  {
   "cell_type": "code",
   "execution_count": 15,
   "metadata": {
    "id": "BuF6dGr9MyGC"
   },
   "outputs": [],
   "source": [
    "X = df.drop('total ether balance', axis = 1) #Chi square requires non-negative values, therefore dropping 'total ether balance'"
   ]
  },
  {
   "cell_type": "code",
   "execution_count": 16,
   "metadata": {
    "id": "MkKvy-7Ohppd"
   },
   "outputs": [
    {
     "name": "stdout",
     "output_type": "stream",
     "text": [
      "(6308, 38) (6308,)\n",
      "(2704, 38) (2704,)\n"
     ]
    }
   ],
   "source": [
    "X_train, X_test, y_train, y_test = train_test_split(X, y, test_size=0.3, random_state=4) #random_state allows for the RNG to be deterministic for reproduction and testing\n",
    "print(X_train.shape, y_train.shape)\n",
    "print(X_test.shape, y_test.shape)"
   ]
  },
  {
   "cell_type": "markdown",
   "metadata": {
    "id": "hWXflceRhEkl"
   },
   "source": [
    "#### Chi Square:"
   ]
  },
  {
   "cell_type": "code",
   "execution_count": 17,
   "metadata": {
    "id": "iJ7bMbam6psw"
   },
   "outputs": [
    {
     "data": {
      "text/plain": [
       "['FLAG',\n",
       " 'Avg min between sent tnx',\n",
       " 'Avg min between received tnx',\n",
       " 'Time Diff between first and last (Mins)',\n",
       " 'Sent tnx',\n",
       " 'Received Tnx',\n",
       " 'Number of Created Contracts',\n",
       " 'Unique Received From Addresses',\n",
       " 'Unique Sent To Addresses',\n",
       " 'min value received',\n",
       " 'max value received ',\n",
       " 'avg val received',\n",
       " 'min val sent',\n",
       " 'max val sent',\n",
       " 'avg val sent',\n",
       " 'max val sent to contract',\n",
       " 'total transactions (including tnx to create contract',\n",
       " 'total Ether sent',\n",
       " 'total ether received',\n",
       " ' Total ERC20 tnxs',\n",
       " ' ERC20 total Ether received',\n",
       " ' ERC20 total ether sent',\n",
       " ' ERC20 total Ether sent contract',\n",
       " ' ERC20 uniq sent addr',\n",
       " ' ERC20 uniq rec addr',\n",
       " ' ERC20 uniq sent addr.1',\n",
       " ' ERC20 uniq rec contract addr',\n",
       " ' ERC20 min val rec',\n",
       " ' ERC20 max val rec',\n",
       " ' ERC20 avg val rec',\n",
       " ' ERC20 min val sent',\n",
       " ' ERC20 max val sent',\n",
       " ' ERC20 avg val sent',\n",
       " ' ERC20 uniq sent token name',\n",
       " ' ERC20 uniq rec token name']"
      ]
     },
     "execution_count": 17,
     "metadata": {},
     "output_type": "execute_result"
    }
   ],
   "source": [
    "X_chi_best= SelectKBest(chi2, k=35).fit(X_train, y_train)\n",
    "mask = X_chi_best.get_support() #list of booleans for selected features\n",
    "new_feat = [] \n",
    "for bool, feature in zip(mask, X_train.columns):\n",
    " if bool:\n",
    "  new_feat.append(feature)\n",
    "\n",
    "X = df[new_feat]\n",
    "X = df.drop('FLAG',axis = 1)\n",
    "\n",
    "new_feat"
   ]
  },
  {
   "cell_type": "code",
   "execution_count": 18,
   "metadata": {
    "id": "FQHUeaa6hacP"
   },
   "outputs": [
    {
     "name": "stdout",
     "output_type": "stream",
     "text": [
      "(6308, 38) (6308,)\n",
      "(2704, 38) (2704,)\n"
     ]
    }
   ],
   "source": [
    "X_train, X_test, y_train, y_test = train_test_split(X, y, test_size=0.3, random_state=4) #random_state allows for the RNG to be deterministic for reproduction and testing \n",
    "print(X_train.shape, y_train.shape)\n",
    "print(X_test.shape, y_test.shape)"
   ]
  },
  {
   "cell_type": "markdown",
   "metadata": {
    "id": "QfZ-Z4lUhKNY"
   },
   "source": [
    "#### ANOVA F-value:"
   ]
  },
  {
   "cell_type": "code",
   "execution_count": 19,
   "metadata": {
    "id": "QFdD0lOueXQR"
   },
   "outputs": [
    {
     "data": {
      "text/plain": [
       "['Avg min between received tnx',\n",
       " 'Time Diff between first and last (Mins)',\n",
       " 'Sent tnx',\n",
       " 'Received Tnx',\n",
       " 'Number of Created Contracts',\n",
       " 'Unique Received From Addresses',\n",
       " 'Unique Sent To Addresses',\n",
       " 'max value received ',\n",
       " 'avg val received',\n",
       " 'min val sent',\n",
       " 'max val sent',\n",
       " 'avg val sent',\n",
       " 'max val sent to contract',\n",
       " 'avg value sent to contract',\n",
       " 'total transactions (including tnx to create contract',\n",
       " 'total Ether sent',\n",
       " 'total ether received',\n",
       " 'total ether sent contracts',\n",
       " ' Total ERC20 tnxs',\n",
       " ' ERC20 total ether sent',\n",
       " ' ERC20 total Ether sent contract',\n",
       " ' ERC20 uniq sent addr',\n",
       " ' ERC20 uniq rec addr',\n",
       " ' ERC20 uniq sent addr.1',\n",
       " ' ERC20 uniq rec contract addr',\n",
       " ' ERC20 min val rec',\n",
       " ' ERC20 avg val rec',\n",
       " ' ERC20 min val sent',\n",
       " ' ERC20 max val sent',\n",
       " ' ERC20 avg val sent',\n",
       " ' ERC20 uniq sent token name',\n",
       " ' ERC20 uniq rec token name']"
      ]
     },
     "execution_count": 19,
     "metadata": {},
     "output_type": "execute_result"
    }
   ],
   "source": [
    "X_f_best= SelectKBest(f_classif, k=32).fit(X_train, y_train)\n",
    "mask = X_f_best.get_support() #list of booleans for selected features\n",
    "new_feat = [] \n",
    "for bool, feature in zip(mask, X_train.columns):\n",
    " if bool:\n",
    "  new_feat.append(feature)\n",
    "\n",
    "X = df[new_feat]\n",
    "X = df.drop('FLAG',axis = 1)\n",
    "new_feat"
   ]
  },
  {
   "cell_type": "code",
   "execution_count": 20,
   "metadata": {
    "id": "aWkVv6o8hbpH"
   },
   "outputs": [
    {
     "name": "stdout",
     "output_type": "stream",
     "text": [
      "(6308, 38) (6308,)\n",
      "(2704, 38) (2704,)\n"
     ]
    }
   ],
   "source": [
    "X_train, X_test, y_train, y_test = train_test_split(X, y, test_size=0.3, random_state=4) #random_state allows for the RNG to be deterministic for reproduction and testing\n",
    "print(X_train.shape, y_train.shape)\n",
    "print(X_test.shape, y_test.shape)"
   ]
  },
  {
   "cell_type": "markdown",
   "metadata": {
    "id": "wd4DX6ecM5dU"
   },
   "source": [
    "## Decision Tree Classifier\n",
    "The first model being explored is the Decision Tree, more specifically a binary Decision Tree model, which creates a tree behind the scenes based on the features and then makes predictions based on traversal through the tree. Using the sklearn function to invoke the model."
   ]
  },
  {
   "cell_type": "code",
   "execution_count": 21,
   "metadata": {
    "id": "-wVjHSrCxEgU"
   },
   "outputs": [],
   "source": [
    "dt = DecisionTreeClassifier() #Decision Tree classifer object\n",
    "dt = dt.fit(X_train,y_train) #Train by fitting to training set\n",
    "y_pred = dt.predict(X_test) #Predict fraud/label/'FLAG' on the test set"
   ]
  },
  {
   "cell_type": "markdown",
   "metadata": {
    "id": "uXDhrzpVqph6"
   },
   "source": [
    "Evaluating the model. First we will calculate Accuracy, which is defined as the proportion of the predictions in the test set were correct.\n"
   ]
  },
  {
   "cell_type": "code",
   "execution_count": 22,
   "metadata": {
    "colab": {
     "base_uri": "https://localhost:8080/"
    },
    "id": "WofMhy9cqysM",
    "outputId": "a38daa86-db07-4de9-9eb4-89f12e146745"
   },
   "outputs": [
    {
     "name": "stdout",
     "output_type": "stream",
     "text": [
      "Accuracy: 0.9626479289940828\n"
     ]
    }
   ],
   "source": [
    "dt_acc = metrics.accuracy_score(y_test, y_pred)\n",
    "print(\"Accuracy:\",dt_acc)"
   ]
  },
  {
   "cell_type": "markdown",
   "metadata": {
    "id": "ieqgjYF8MJkz"
   },
   "source": [
    "The issue with using accuracy to evaluate model performance is that, given the imbalance of the data, even a random guess of all items being 'Not fraud' would yield a high accuracy. Therefore, we are better off using recall, which is defined as the proportion of the fraud predicted correctly. Mathematically:\n",
    "\n",
    "$ Recall = \\frac {True Positives} {True Positives + False Negatives} $"
   ]
  },
  {
   "cell_type": "code",
   "execution_count": 23,
   "metadata": {
    "colab": {
     "base_uri": "https://localhost:8080/"
    },
    "id": "jnBQMageOX-5",
    "outputId": "05ee0da0-a2f4-4286-a211-ec0f27eefb01"
   },
   "outputs": [
    {
     "name": "stdout",
     "output_type": "stream",
     "text": [
      "Recall: 0.9156626506024096\n"
     ]
    }
   ],
   "source": [
    "dt_rec = metrics.recall_score(y_test, y_pred)\n",
    "print(\"Recall:\",dt_rec)"
   ]
  },
  {
   "cell_type": "markdown",
   "metadata": {
    "id": "uT498fKYxUjP"
   },
   "source": [
    "### Tuning the Decision Tree\n",
    "The Decision Tree Classifier has a parameter called max_depth which essentially caps the maximum depth of the tree. We will use various values for max_depth to attempt to increase our recall score. In order to do this, I have created a quick ***helper function*** rather than using the out of the box paramGrid and CrossValidator functions from scikit learn, since we want to customize the tuning to our specific needs. This function is built so it can be used in later models as well."
   ]
  },
  {
   "cell_type": "markdown",
   "metadata": {
    "id": "ASp05eyjZsF1"
   },
   "source": [
    "#### Helper Function for Tuning Models"
   ]
  },
  {
   "cell_type": "code",
   "execution_count": 24,
   "metadata": {
    "id": "REmlCP35Th_s"
   },
   "outputs": [],
   "source": [
    "# Initializing the global variables\n",
    "Keymax=0\n",
    "dt_rec=0\n",
    "dt_fp=0\n",
    "lr_rec=0\n",
    "lr_fp=0\n",
    "rf_rec=0\n",
    "rf_fp=0\n",
    "gbt_rec=0\n",
    "gbt_fp=0\n",
    "\n",
    "# Defining the main function 'tuner' which takes in 3 parameters:\n",
    "# - model: the type of machine learning model to be tuned\n",
    "# - lo (optional): the lower bound of the parameter search range\n",
    "# - hi (optional): the upper bound of the parameter search range\n",
    "def tuner(model, lo=0, hi=100): \n",
    "  \n",
    "  # Creating a dictionary to store the recall scores for each parameter value\n",
    "  paramDict = {}\n",
    "  \n",
    "  # Making the global variables accessible within the function\n",
    "  global Keymax\n",
    "  global dt_rec\n",
    "  global rf_rec\n",
    "  global gbt_rec\n",
    "  global dt_fp\n",
    "  global lr_fp\n",
    "  global rf_fp\n",
    "  global gbt_fp\n",
    "  global y_pred\n",
    "  global y_test\n",
    "\n",
    "  # Defining a function to calculate the false positives\n",
    "  def perf_measure(y_test, y_pred): # (source: https://datascience.stackexchange.com/questions/28493/confusion-matrix-get-items-fp-fn-tp-tn-python)\n",
    "    FP = 0\n",
    "    y_test_array = y_test.to_list()\n",
    "    # Iterating through the predictions\n",
    "    for i in range(len(y_pred)): \n",
    "        # If a prediction is a positive and it's not the same as the actual value\n",
    "        if y_pred[i] == 1.0 and y_test_array[i] != y_pred[i]:\n",
    "           # Incrementing the false positive count\n",
    "           FP += 1\n",
    "    return(FP)\n",
    "\n",
    "# Checking the type of model being tuned\n",
    "  if model == 'dt':\n",
    "    while lo <= hi:\n",
    "      m = DecisionTreeClassifier(max_depth=lo)\n",
    "      m = m.fit(X_train,y_train)\n",
    "      y_pred = m.predict(X_test)\n",
    "      rec = metrics.recall_score(y_test, y_pred)\n",
    "      paramDict.update({lo: rec})\n",
    "      lo += 1\n",
    "    # Getting the key (parameter value) that yields the highest recall score\n",
    "    Keymax = max(paramDict, key=paramDict.get) \n",
    "    # Storing the highest recall score\n",
    "    dt_rec = paramDict[Keymax]\n",
    "    # Calculating the false positives using the perf_measure function\n",
    "    dt_fp = perf_measure(y_test, y_pred)\n",
    "    # Returning the best parameter value, recall score, and false positives\n",
    "    return Keymax, dt_rec, dt_fp\n",
    "\n",
    "# Same process for Logistic Regression model\n",
    "  elif model == 'lr':\n",
    "    lrParams = [\"l2\", \"none\"]\n",
    "    for param in lrParams:\n",
    "      m = LogisticRegression(max_iter=100000, penalty=param)\n",
    "      m = lr.fit(X_train,y_train) \n",
    "      y_pred = m.predict(X_test) \n",
    "      rec = metrics.recall_score(y_test, y_pred)\n",
    "      paramDict.update({param: rec})\n",
    "    Keymax = max(paramDict, key=paramDict.get) \n",
    "    lr_rec = paramDict[Keymax]\n",
    "    lr_fp = perf_measure(y_test, y_pred)\n",
    "    return Keymax, lr_rec, lr_fp  \n",
    "    \n",
    "  elif model == 'rf':\n",
    "    while lo <= hi:\n",
    "      m = RandomForestClassifier(n_estimators=lo)\n",
    "      m = m.fit(X_train,y_train)\n",
    "      y_pred = m.predict(X_test) \n",
    "      rec = metrics.recall_score(y_test, y_pred)\n",
    "      paramDict.update({lo: rec})\n",
    "      lo += 1\n",
    "    Keymax = max(paramDict, key=paramDict.get)\n",
    "    rf_rec = paramDict[Keymax]\n",
    "    rf_fp = perf_measure(y_test, y_pred)\n",
    "    return Keymax, rf_rec, rf_fp\n",
    "\n",
    "\n",
    "  elif model == 'gbt':\n",
    "    while lo <= hi:\n",
    "      m = GradientBoostingClassifier(n_estimators=lo)\n",
    "      m = m.fit(X_train,y_train)\n",
    "      y_pred = m.predict(X_test)\n",
    "      rec = metrics.recall_score(y_test, y_pred)\n",
    "      paramDict.update({lo: rec})\n",
    "      lo += 1\n",
    "    Keymax = max(paramDict, key=paramDict.get)\n",
    "    gbt_rec = paramDict[Keymax]\n",
    "    gbt_fp = perf_measure(y_test, y_pred)\n",
    "    return Keymax, gbt_rec, gbt_fp\n",
    " \n"
   ]
  },
  {
   "cell_type": "markdown",
   "metadata": {
    "id": "m0tkHsLfZ0TQ"
   },
   "source": [
    "Using the tuner to get the best possible parameter value as well as corresponding recall score.\n",
    "In this specific case, lo=5 and hi=100, so the range of max_depth values will be [5, 6, ..., 100], and the tuner function will train and evaluate 100 Decision Tree models to find the best max_depth value."
   ]
  },
  {
   "cell_type": "code",
   "execution_count": 25,
   "metadata": {
    "colab": {
     "base_uri": "https://localhost:8080/"
    },
    "id": "7E_UCQ4-VVre",
    "outputId": "47e0ebba-1043-42e8-8db3-468d5b833a3d"
   },
   "outputs": [
    {
     "data": {
      "text/plain": [
       "(23, 0.9228915662650602, 64)"
      ]
     },
     "execution_count": 25,
     "metadata": {},
     "output_type": "execute_result"
    }
   ],
   "source": [
    "tuner('dt', 5, 100)"
   ]
  },
  {
   "cell_type": "markdown",
   "metadata": {
    "id": "33Ty0bsn82vW"
   },
   "source": [
    "We did improve the recall! Our tuning was successful! "
   ]
  },
  {
   "cell_type": "markdown",
   "metadata": {
    "id": "q5Jhrq4q_XrD"
   },
   "source": [
    "Creating a Confusion Matrix and visualizing it to understand the True Negatives,False Negatives, True Positives and False Positives."
   ]
  },
  {
   "cell_type": "code",
   "execution_count": 26,
   "metadata": {
    "colab": {
     "base_uri": "https://localhost:8080/",
     "height": 309
    },
    "id": "m9DcEkTd_0dX",
    "outputId": "5097e5d3-cde5-4627-a54f-3908708cbbe4"
   },
   "outputs": [
    {
     "data": {
      "image/png": "[encoded data removed]",
      "text/plain": [
       "<Figure size 360x360 with 2 Axes>"
      ]
     },
     "metadata": {
      "needs_background": "light"
     },
     "output_type": "display_data"
    }
   ],
   "source": [
    "dt_cm = metrics.confusion_matrix(y_test, y_pred)\n",
    "plt.figure(figsize=(5,5))\n",
    "sn.heatmap(dt_cm, annot=True, fmt=\".3f\", linewidths=.5, square = True, cmap = 'Blues_r');\n",
    "plt.ylabel('Actual Fraud');\n",
    "plt.xlabel('Predicted Fraud');\n",
    "all_sample_title = 'Confusion Matrix'\n",
    "plt.title(all_sample_title, size = 15);"
   ]
  },
  {
   "cell_type": "markdown",
   "metadata": {
    "id": "HuwpHXWUI3M9"
   },
   "source": [
    "## Logistic Regression\n",
    "The next model being explored is the logistic regression model, more specifically a binary logistic regression model, which models the probability of a binary class. Again, using the sklearn function to invoke the model.\n",
    "\n",
    "The flow of code is similar to that of the Decision Tree."
   ]
  },
  {
   "cell_type": "code",
   "execution_count": 27,
   "metadata": {
    "id": "lPKy-a4qNde6"
   },
   "outputs": [],
   "source": [
    "lr = LogisticRegression(max_iter=100000) #Logistic Regression classifer object\n",
    "lr = lr.fit(X_train,y_train) #Train by fitting to training set\n",
    "y_pred = lr.predict(X_test) #Predict fraud/label/'FLAG' on the test set"
   ]
  },
  {
   "cell_type": "code",
   "execution_count": 28,
   "metadata": {
    "colab": {
     "base_uri": "https://localhost:8080/"
    },
    "id": "0VTu5c9cRmpd",
    "outputId": "c1a5b64f-dde2-444d-aaa7-fcf503d03e17"
   },
   "outputs": [
    {
     "name": "stdout",
     "output_type": "stream",
     "text": [
      "Recall: 0.0024096385542168677\n"
     ]
    }
   ],
   "source": [
    "lr_rec = metrics.recall_score(y_test, y_pred)\n",
    "print(\"Recall:\",lr_rec)"
   ]
  },
  {
   "cell_type": "code",
   "execution_count": 29,
   "metadata": {
    "colab": {
     "base_uri": "https://localhost:8080/"
    },
    "id": "MRHtLoJlGbwi",
    "outputId": "d3d78d22-bb38-48dd-c73b-9861fa5d5500"
   },
   "outputs": [
    {
     "data": {
      "text/plain": [
       "('l2', 0.0024096385542168677, 2)"
      ]
     },
     "execution_count": 29,
     "metadata": {},
     "output_type": "execute_result"
    }
   ],
   "source": [
    "tuner('lr')"
   ]
  },
  {
   "cell_type": "markdown",
   "metadata": {
    "id": "I3JqUj-9kags"
   },
   "source": [
    "Since the Logistic Regression model has a very low recall score of approximately 0.4%, it is in it current form a less valuable prediction tool."
   ]
  },
  {
   "cell_type": "markdown",
   "metadata": {
    "id": "5SaCM2BiB83e"
   },
   "source": [
    "## Random Forest\n",
    "The next model being explored is the Random Forest model, which first creates multiple bootstrapped datasets from our larger data set and then creates decision trees for each of those bootstrapped sets. The final prediction is based on a majority vote from all the trees. Again, using the sklearn function to invoke the model.\n",
    "\n",
    "The flow of code is similar to that of the Decision Tree."
   ]
  },
  {
   "cell_type": "code",
   "execution_count": 30,
   "metadata": {
    "id": "bPs8_tn1AwiJ"
   },
   "outputs": [],
   "source": [
    "rf = RandomForestClassifier() #Random Forest Classifier object\n",
    "rf = rf.fit(X_train,y_train) #Train by fitting to training set\n",
    "y_pred = rf.predict(X_test) #Predict fraud/label/'FLAG' on the test set"
   ]
  },
  {
   "cell_type": "code",
   "execution_count": 31,
   "metadata": {
    "colab": {
     "base_uri": "https://localhost:8080/"
    },
    "id": "tGeOMOMaAwiS",
    "outputId": "96dc018d-d485-4d32-fbda-916fced9bf28"
   },
   "outputs": [
    {
     "name": "stdout",
     "output_type": "stream",
     "text": [
      "Recall: 0.9180722891566265\n"
     ]
    }
   ],
   "source": [
    "rf_rec = metrics.recall_score(y_test, y_pred)\n",
    "print(\"Recall:\",rf_rec)"
   ]
  },
  {
   "cell_type": "markdown",
   "metadata": {
    "id": "vYdZAKxB9m5l"
   },
   "source": [
    "### Tuning the Random Forest Classifier"
   ]
  },
  {
   "cell_type": "code",
   "execution_count": 32,
   "metadata": {
    "colab": {
     "base_uri": "https://localhost:8080/"
    },
    "id": "Lj9bx7ot9vX3",
    "outputId": "50d4770a-5f9a-45d1-d176-97891a9b350c"
   },
   "outputs": [
    {
     "data": {
      "text/plain": [
       "(5, 0.927710843373494, 11)"
      ]
     },
     "execution_count": 32,
     "metadata": {},
     "output_type": "execute_result"
    }
   ],
   "source": [
    "tuner('rf', 5, 100)"
   ]
  },
  {
   "cell_type": "markdown",
   "metadata": {
    "id": "65gAc74AohDm"
   },
   "source": [
    "We did improve the recall! Our tuning was successful!\n"
   ]
  },
  {
   "cell_type": "markdown",
   "metadata": {
    "id": "Qms9UklRAwiT"
   },
   "source": [
    "Creating a Confusion Matrix and visualizing it to understand the True Negatives,False Negatives, True Positives and False Positives."
   ]
  },
  {
   "cell_type": "code",
   "execution_count": 33,
   "metadata": {
    "colab": {
     "base_uri": "https://localhost:8080/",
     "height": 309
    },
    "id": "KtmkRBlSAwiT",
    "outputId": "d14197f2-243a-4b2b-9afa-3fde8ea675bb"
   },
   "outputs": [
    {
     "data": {
      "image/png": "[encoded data removed]",
      "text/plain": [
       "<Figure size 360x360 with 2 Axes>"
      ]
     },
     "metadata": {
      "needs_background": "light"
     },
     "output_type": "display_data"
    }
   ],
   "source": [
    "rf_cm = metrics.confusion_matrix(y_test, y_pred)\n",
    "plt.figure(figsize=(5,5))\n",
    "sn.heatmap(rf_cm, annot=True, fmt=\".3f\", linewidths=.5, square = True, cmap = 'Blues_r');\n",
    "plt.ylabel('Actual Fraud');\n",
    "plt.xlabel('Predicted Fraud');\n",
    "all_sample_title = 'Confusion Matrix'\n",
    "plt.title(all_sample_title, size = 15);"
   ]
  },
  {
   "cell_type": "markdown",
   "metadata": {
    "id": "xIQEf7YYCr3k"
   },
   "source": [
    "## Gradient Boost\n",
    "The next model being explored is the Gradient Boost model, which builds an additive model in a forward stage-wise fashion allowing for the optimization of arbitrary differentiable loss functions. Again, using the sklearn function to invoke the model.\n",
    "\n",
    "The flow of code is similar to that of the Decision Tree."
   ]
  },
  {
   "cell_type": "code",
   "execution_count": 34,
   "metadata": {
    "id": "n7oD4wS4Cr3s"
   },
   "outputs": [],
   "source": [
    "gbt = GradientBoostingClassifier() #Gradient Boosting Classifier object\n",
    "\n",
    "gbt = gbt.fit(X_train,y_train) #Train by fitting to training set\n",
    "\n",
    "y_pred = gbt.predict(X_test) #Predict fraud/label/'FLAG' on the test set"
   ]
  },
  {
   "cell_type": "code",
   "execution_count": 35,
   "metadata": {
    "colab": {
     "base_uri": "https://localhost:8080/"
    },
    "id": "baOxxT18Cr3s",
    "outputId": "b6489dc9-26c5-4f9c-8787-df61a8ba9ac2"
   },
   "outputs": [
    {
     "name": "stdout",
     "output_type": "stream",
     "text": [
      "Recall: 0.9156626506024096\n"
     ]
    }
   ],
   "source": [
    "gbt_rec = metrics.recall_score(y_test, y_pred)\n",
    "print(\"Recall:\",gbt_rec)"
   ]
  },
  {
   "cell_type": "markdown",
   "metadata": {
    "id": "W65a6Mp5k4W-"
   },
   "source": [
    "### Tuning the Gradient Boost"
   ]
  },
  {
   "cell_type": "code",
   "execution_count": 36,
   "metadata": {
    "colab": {
     "base_uri": "https://localhost:8080/"
    },
    "id": "uND74we6k3GN",
    "outputId": "7e58d57c-7fb9-4fb1-e0ee-a6ceb4ba7d2d"
   },
   "outputs": [
    {
     "data": {
      "text/plain": [
       "(50, 0.8722891566265061, 11)"
      ]
     },
     "execution_count": 36,
     "metadata": {},
     "output_type": "execute_result"
    }
   ],
   "source": [
    "tuner('gbt', 5, 50)"
   ]
  },
  {
   "cell_type": "markdown",
   "metadata": {
    "id": "r7UIP_N3stMa"
   },
   "source": [
    "We did not improve the recall! We will omit the n_estimators parameter for the Gradient Boost Classifier.\n"
   ]
  },
  {
   "cell_type": "markdown",
   "metadata": {
    "id": "eHynT43hCr3s"
   },
   "source": [
    "Creating a Confusion Matrix and visualizing it to understand the True Negatives,False Negatives, True Positives and False Positives."
   ]
  },
  {
   "cell_type": "code",
   "execution_count": 37,
   "metadata": {
    "colab": {
     "base_uri": "https://localhost:8080/",
     "height": 309
    },
    "id": "CrNiC2F4Cr3s",
    "outputId": "8d4a027c-1646-472c-b278-9eba8c2beb4e"
   },
   "outputs": [
    {
     "data": {
      "image/png": "[encoded data removed]",
      "text/plain": [
       "<Figure size 360x360 with 2 Axes>"
      ]
     },
     "metadata": {
      "needs_background": "light"
     },
     "output_type": "display_data"
    }
   ],
   "source": [
    "gbt_cm = metrics.confusion_matrix(y_test, y_pred)\n",
    "plt.figure(figsize=(5,5))\n",
    "sn.heatmap(gbt_cm, annot=True, fmt=\".3f\", linewidths=.5, square = True, cmap = 'Blues_r');\n",
    "plt.ylabel('Actual Fraud');\n",
    "plt.xlabel('Predicted Fraud');\n",
    "all_sample_title = 'Confusion Matrix'\n",
    "plt.title(all_sample_title, size = 15);"
   ]
  },
  {
   "cell_type": "markdown",
   "metadata": {
    "id": "Kj5pGZ4zlxLy"
   },
   "source": [
    "## Conclusion\n",
    "\n",
    "The following are the results from the Classification Models that we have run so far:\n"
   ]
  },
  {
   "cell_type": "code",
   "execution_count": 38,
   "metadata": {
    "colab": {
     "base_uri": "https://localhost:8080/",
     "height": 173
    },
    "id": "7j8kk1CVmCZo",
    "outputId": "072d96fa-615a-44ab-b672-c1a3dce855f3"
   },
   "outputs": [
    {
     "data": {
      "text/html": [
       "<div>\n",
       "<style scoped>\n",
       "    .dataframe tbody tr th:only-of-type {\n",
       "        vertical-align: middle;\n",
       "    }\n",
       "\n",
       "    .dataframe tbody tr th {\n",
       "        vertical-align: top;\n",
       "    }\n",
       "\n",
       "    .dataframe thead th {\n",
       "        text-align: right;\n",
       "    }\n",
       "</style>\n",
       "<table border=\"1\" class=\"dataframe\">\n",
       "  <thead>\n",
       "    <tr style=\"text-align: right;\">\n",
       "      <th></th>\n",
       "      <th>Model</th>\n",
       "      <th>Recall Score</th>\n",
       "      <th>False Positives</th>\n",
       "    </tr>\n",
       "  </thead>\n",
       "  <tbody>\n",
       "    <tr>\n",
       "      <th>0</th>\n",
       "      <td>Decision tree</td>\n",
       "      <td>92.29</td>\n",
       "      <td>64</td>\n",
       "    </tr>\n",
       "    <tr>\n",
       "      <th>1</th>\n",
       "      <td>Logistic Regression</td>\n",
       "      <td>0.24</td>\n",
       "      <td>2</td>\n",
       "    </tr>\n",
       "    <tr>\n",
       "      <th>2</th>\n",
       "      <td>Random Forest</td>\n",
       "      <td>92.77</td>\n",
       "      <td>11</td>\n",
       "    </tr>\n",
       "    <tr>\n",
       "      <th>3</th>\n",
       "      <td>Gradient Boost</td>\n",
       "      <td>87.23</td>\n",
       "      <td>11</td>\n",
       "    </tr>\n",
       "  </tbody>\n",
       "</table>\n",
       "</div>"
      ],
      "text/plain": [
       "                 Model Recall Score  False Positives\n",
       "0        Decision tree        92.29               64\n",
       "1  Logistic Regression         0.24                2\n",
       "2        Random Forest        92.77               11\n",
       "3       Gradient Boost        87.23               11"
      ]
     },
     "execution_count": 38,
     "metadata": {},
     "output_type": "execute_result"
    }
   ],
   "source": [
    "data = [[\"Decision tree\", ('%.2f' % (dt_rec*100)), dt_fp],[\"Logistic Regression\", ('%.2f' % (lr_rec*100)), lr_fp],[\"Random Forest\", ('%.2f' % (rf_rec*100)), rf_fp],[\"Gradient Boost\", ('%.2f' % (gbt_rec*100)), gbt_fp]]\n",
    "resultsDf = pd.DataFrame(data, columns=[\"Model\", \"Recall Score\", \"False Positives\"])\n",
    "resultsDf"
   ]
  },
  {
   "cell_type": "markdown",
   "metadata": {
    "id": "s61frnqlznzD"
   },
   "source": [
    "If we only look at the Recall score, we may draw the following conclusions:\n",
    "*   The Decision Tree Model and the Random Forest Model are the best.\n",
    "*   The Decision Tree and the Random Forest are equally good.\n",
    "\n",
    "\n"
   ]
  },
  {
   "cell_type": "markdown",
   "metadata": {
    "id": "OYx9kt0-NkwX"
   },
   "source": [
    "#### On closer Inspection...\n",
    "we will notice that the False Positives in the case of the Random Forest model is less than 20% of that of the Decision Tree which makes it a superior prediction tool. In a real world scenario, if we wanted to have an intervention of some sort on the cases of predicted fraud, we would prefer to have a lower false positive rate so that we do not intervene in case of genuine transactions.\n"
   ]
  }
 ],
 "metadata": {
  "colab": {
   "collapsed_sections": [],
   "name": "cscie118_proj_final.ipynb",
   "provenance": [],
   "toc_visible": true
  },
  "kernelspec": {
   "display_name": "Python 3 (ipykernel)",
   "language": "python",
   "name": "python3"
  },
  "language_info": {
   "codemirror_mode": {
    "name": "ipython",
    "version": 3
   },
   "file_extension": ".py",
   "mimetype": "text/x-python",
   "name": "python",
   "nbconvert_exporter": "python",
   "pygments_lexer": "ipython3",
   "version": "3.9.12"
  }
 },
 "nbformat": 4,
 "nbformat_minor": 1
}
